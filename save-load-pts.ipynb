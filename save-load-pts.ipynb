{
 "cells": [
  {
   "cell_type": "markdown",
   "metadata": {},
   "source": [
    "# Import packages"
   ]
  },
  {
   "cell_type": "code",
   "execution_count": null,
   "metadata": {},
   "outputs": [],
   "source": [
    "# Enable autorelaod for local packages\n",
    "%load_ext autoreload\n",
    "%autoreload 2"
   ]
  },
  {
   "cell_type": "code",
   "execution_count": null,
   "metadata": {},
   "outputs": [],
   "source": [
    "# Standard library imports\n",
    "from pathlib import Path\n",
    "# Third-party imports\n",
    "import imageio as io\n",
    "import napari\n",
    "import numpy as np\n",
    "import pandas as pd\n",
    "from skimage import util\n",
    "# Local imports\n",
    "import pts"
   ]
  },
  {
   "cell_type": "markdown",
   "metadata": {},
   "source": [
    "# Set variables"
   ]
  },
  {
   "cell_type": "code",
   "execution_count": null,
   "metadata": {},
   "outputs": [],
   "source": [
    "img_dir = Path('data')\n",
    "img_dir.exists()"
   ]
  },
  {
   "cell_type": "markdown",
   "metadata": {},
   "source": [
    "# Open napari window"
   ]
  },
  {
   "cell_type": "code",
   "execution_count": null,
   "metadata": {},
   "outputs": [],
   "source": [
    "viewer = napari.Viewer()"
   ]
  },
  {
   "cell_type": "markdown",
   "metadata": {},
   "source": [
    "# Load images"
   ]
  },
  {
   "cell_type": "code",
   "execution_count": null,
   "metadata": {},
   "outputs": [],
   "source": [
    "# Load images (arrays) into a list from .tif files within the directory img_dir\n",
    "img_list = [io.imread(img) for img in img_dir.glob('*.tif')]\n",
    "print(f'Image 0 data (before conversion)')\n",
    "print(f'Shape: {img_list[0].shape}')\n",
    "print(f'Data type: {img_list[0].dtype}')\n",
    "print(f'Min, Max: {img_list[0].min()}, {img_list[0].max()}')\n",
    "print()\n",
    "# Convert list of images to list of floating point arrays with range [0, 1]\n",
    "img_list = [util.img_as_float(img) for img in img_list]\n",
    "print('Image 0 data (after conversion)')\n",
    "print(f'Shape: {img_list[0].shape}')\n",
    "print(f'Data type: {img_list[0].dtype}')\n",
    "print(f'Min, Max: {img_list[0].min()}, {img_list[0].max()}')\n",
    "print()\n",
    "# Create a 3D array (of the stackedimage stack) from the list of 2D images\n",
    "img_stack = np.stack(img_list, axis=0)\n",
    "print('Image stack data')\n",
    "print(f'Shape: {img_stack.shape}')\n",
    "print(f'Data type: {img_stack.dtype}')\n",
    "print(f'Min, Max: {img_stack.min()}, {img_stack.max()}')"
   ]
  },
  {
   "cell_type": "markdown",
   "metadata": {},
   "source": [
    "# Add full image sequence to napari"
   ]
  },
  {
   "cell_type": "code",
   "execution_count": null,
   "metadata": {},
   "outputs": [],
   "source": [
    "viewer.add_image(img_stack, name='Full stack')"
   ]
  },
  {
   "cell_type": "markdown",
   "metadata": {},
   "source": [
    "# Choose start, stop, and step for image subset\n",
    "More info about indexing/slicing in NumPy can be found [here](https://numpy.org/doc/stable/reference/arrays.indexing.html)"
   ]
  },
  {
   "cell_type": "code",
   "execution_count": null,
   "metadata": {},
   "outputs": [],
   "source": [
    "img_start, img_stop, img_step = 0, 11, 5\n",
    "# Print list of range to make sure start, stop, and stop results are expected\n",
    "print(np.arange(img_start, img_stop, img_step))"
   ]
  },
  {
   "cell_type": "code",
   "execution_count": null,
   "metadata": {},
   "outputs": [],
   "source": [
    "# Use index slicing to load subset of images into napari\n",
    "viewer.add_image(img_stack[img_start:img_stop:img_step], name='Subset')"
   ]
  },
  {
   "cell_type": "markdown",
   "metadata": {},
   "source": [
    "# Add napari points layer\n",
    "1. Run the cell below to add a new points layer, or click the 'New points layer' button (icon looks like 6 dots) at the top left of the 'layer list' section of the napari viewer window. **Note:** When adding points from a Jupyter Notebook, the `ndim` keyword argument must be equal to the amount of the image stack you'd like to annotate. If not icnluded, points will be overlaid across the entire image stack.\n",
    "2. With the new Points layer selected, click the 'Add points' button (icon looks like a circle with a plus sign in the center) at the top of the 'layer controls' section of the napari viewer window. \n",
    "3. Select as many points as necessary on the feature you'd like to analyze on the first slice of the image stack.\n",
    "4. Click the next arrow or move the slider to move to the next image you'd like to annotate.\n",
    "5. Repeat as necessary."
   ]
  },
  {
   "cell_type": "code",
   "execution_count": null,
   "metadata": {},
   "outputs": [],
   "source": [
    "# Setting ndim to the length of the arange array will ensure that the points \n",
    "# layer is the same size as the image subset stack\n",
    "viewer.add_points(\n",
    "    ndim=len(np.arange(img_start, img_stop, img_step)), \n",
    "    size=5, \n",
    "    name='Size 5 Points'\n",
    ")"
   ]
  },
  {
   "cell_type": "markdown",
   "metadata": {},
   "source": [
    "# Save points to CSV"
   ]
  },
  {
   "cell_type": "markdown",
   "metadata": {},
   "source": [
    "# Load points from CSV"
   ]
  }
 ],
 "metadata": {
  "interpreter": {
   "hash": "316d31146b28079309a3fcf3acd6fcae871c3c0c9dd55091e9771d02faead536"
  },
  "kernelspec": {
   "display_name": "Python 3.9.5 64-bit (system)",
   "name": "python3"
  },
  "language_info": {
   "codemirror_mode": {
    "name": "ipython",
    "version": 3
   },
   "file_extension": ".py",
   "mimetype": "text/x-python",
   "name": "python",
   "nbconvert_exporter": "python",
   "pygments_lexer": "ipython3",
   "version": "3.9.5"
  },
  "orig_nbformat": 4
 },
 "nbformat": 4,
 "nbformat_minor": 2
}
